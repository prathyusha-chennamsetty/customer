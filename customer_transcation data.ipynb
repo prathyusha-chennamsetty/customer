{
 "cells": [
  {
   "cell_type": "code",
   "execution_count": null,
   "id": "b9e28837",
   "metadata": {},
   "outputs": [],
   "source": []
  },
  {
   "cell_type": "code",
   "execution_count": 22,
   "id": "96bbd0bc",
   "metadata": {
    "ExecuteTime": {
     "end_time": "2024-05-02T10:02:02.300954Z",
     "start_time": "2024-05-02T10:02:02.288768Z"
    }
   },
   "outputs": [],
   "source": [
    "import pandas as pd\n",
    "import matplotlib.pyplot as plt\n",
    "import seaborn as sns"
   ]
  },
  {
   "cell_type": "code",
   "execution_count": 23,
   "id": "a2189124",
   "metadata": {
    "ExecuteTime": {
     "end_time": "2024-05-02T10:02:03.267386Z",
     "start_time": "2024-05-02T10:02:03.196830Z"
    }
   },
   "outputs": [],
   "source": [
    "df = pd.read_excel('customer_transcation.xlsx')"
   ]
  },
  {
   "cell_type": "code",
   "execution_count": 24,
   "id": "7cb2dc20",
   "metadata": {
    "ExecuteTime": {
     "end_time": "2024-05-02T10:02:04.024932Z",
     "start_time": "2024-05-02T10:02:04.010131Z"
    }
   },
   "outputs": [
    {
     "data": {
      "text/html": [
       "<div>\n",
       "<style scoped>\n",
       "    .dataframe tbody tr th:only-of-type {\n",
       "        vertical-align: middle;\n",
       "    }\n",
       "\n",
       "    .dataframe tbody tr th {\n",
       "        vertical-align: top;\n",
       "    }\n",
       "\n",
       "    .dataframe thead th {\n",
       "        text-align: right;\n",
       "    }\n",
       "</style>\n",
       "<table border=\"1\" class=\"dataframe\">\n",
       "  <thead>\n",
       "    <tr style=\"text-align: right;\">\n",
       "      <th></th>\n",
       "      <th>Txn ID</th>\n",
       "      <th>First Name</th>\n",
       "      <th>Last Name</th>\n",
       "      <th>Email</th>\n",
       "      <th>Job Title</th>\n",
       "      <th>Product</th>\n",
       "      <th>Purchase Mode</th>\n",
       "      <th>Date</th>\n",
       "      <th>Purchase Amount</th>\n",
       "    </tr>\n",
       "  </thead>\n",
       "  <tbody>\n",
       "    <tr>\n",
       "      <th>0</th>\n",
       "      <td>TX00-01</td>\n",
       "      <td>Yedukondalu</td>\n",
       "      <td>Panditula</td>\n",
       "      <td>ypanditula@hugedomains.com</td>\n",
       "      <td>Office Assistant</td>\n",
       "      <td>Drinking Coco</td>\n",
       "      <td>Website</td>\n",
       "      <td>2023-12-01</td>\n",
       "      <td>NaN</td>\n",
       "    </tr>\n",
       "    <tr>\n",
       "      <th>1</th>\n",
       "      <td>TX00-02</td>\n",
       "      <td>Ponnan</td>\n",
       "      <td>Delhi</td>\n",
       "      <td>pdelhi@yale.edu</td>\n",
       "      <td>Analyst</td>\n",
       "      <td>Honey Caramel Truffle</td>\n",
       "      <td>App</td>\n",
       "      <td>2023-12-01</td>\n",
       "      <td>NaN</td>\n",
       "    </tr>\n",
       "    <tr>\n",
       "      <th>2</th>\n",
       "      <td>TX00-03</td>\n",
       "      <td>Prerana</td>\n",
       "      <td>Nishita</td>\n",
       "      <td>pnishita5@google.de</td>\n",
       "      <td>Sales</td>\n",
       "      <td>Hazelnut Praline Bars</td>\n",
       "      <td>Website</td>\n",
       "      <td>2023-12-01</td>\n",
       "      <td>930.0</td>\n",
       "    </tr>\n",
       "    <tr>\n",
       "      <th>3</th>\n",
       "      <td>TX00-04</td>\n",
       "      <td>Subbarao</td>\n",
       "      <td>Malladi</td>\n",
       "      <td>smalladi@gmpg.org</td>\n",
       "      <td>Engineer</td>\n",
       "      <td>Spicy Special Slims</td>\n",
       "      <td>In store</td>\n",
       "      <td>2023-12-02</td>\n",
       "      <td>NaN</td>\n",
       "    </tr>\n",
       "    <tr>\n",
       "      <th>4</th>\n",
       "      <td>TX00-05</td>\n",
       "      <td>Sarayu</td>\n",
       "      <td>Ragunathan</td>\n",
       "      <td>sragunathan2@nhs.uk</td>\n",
       "      <td>Engineer</td>\n",
       "      <td>Almond Raspberry Cluster</td>\n",
       "      <td>In store</td>\n",
       "      <td>2023-12-02</td>\n",
       "      <td>NaN</td>\n",
       "    </tr>\n",
       "  </tbody>\n",
       "</table>\n",
       "</div>"
      ],
      "text/plain": [
       "    Txn ID   First Name   Last Name                       Email  \\\n",
       "0  TX00-01  Yedukondalu   Panditula  ypanditula@hugedomains.com   \n",
       "1  TX00-02       Ponnan       Delhi             pdelhi@yale.edu   \n",
       "2  TX00-03      Prerana     Nishita         pnishita5@google.de   \n",
       "3  TX00-04     Subbarao     Malladi           smalladi@gmpg.org   \n",
       "4  TX00-05       Sarayu  Ragunathan         sragunathan2@nhs.uk   \n",
       "\n",
       "          Job Title                   Product Purchase Mode       Date  \\\n",
       "0  Office Assistant             Drinking Coco       Website 2023-12-01   \n",
       "1           Analyst     Honey Caramel Truffle           App 2023-12-01   \n",
       "2             Sales     Hazelnut Praline Bars       Website 2023-12-01   \n",
       "3          Engineer       Spicy Special Slims      In store 2023-12-02   \n",
       "4          Engineer  Almond Raspberry Cluster      In store 2023-12-02   \n",
       "\n",
       "   Purchase Amount  \n",
       "0              NaN  \n",
       "1              NaN  \n",
       "2            930.0  \n",
       "3              NaN  \n",
       "4              NaN  "
      ]
     },
     "execution_count": 24,
     "metadata": {},
     "output_type": "execute_result"
    }
   ],
   "source": [
    "df.head()"
   ]
  },
  {
   "cell_type": "code",
   "execution_count": 25,
   "id": "912f2084",
   "metadata": {
    "ExecuteTime": {
     "end_time": "2024-05-02T10:02:08.428056Z",
     "start_time": "2024-05-02T10:02:08.415378Z"
    }
   },
   "outputs": [
    {
     "name": "stdout",
     "output_type": "stream",
     "text": [
      "<class 'pandas.core.frame.DataFrame'>\n",
      "RangeIndex: 443 entries, 0 to 442\n",
      "Data columns (total 9 columns):\n",
      " #   Column           Non-Null Count  Dtype         \n",
      "---  ------           --------------  -----         \n",
      " 0   Txn ID           443 non-null    object        \n",
      " 1   First Name       443 non-null    object        \n",
      " 2   Last Name        443 non-null    object        \n",
      " 3   Email            443 non-null    object        \n",
      " 4   Job Title        443 non-null    object        \n",
      " 5   Product          443 non-null    object        \n",
      " 6   Purchase Mode    443 non-null    object        \n",
      " 7   Date             443 non-null    datetime64[ns]\n",
      " 8   Purchase Amount  326 non-null    float64       \n",
      "dtypes: datetime64[ns](1), float64(1), object(7)\n",
      "memory usage: 31.3+ KB\n"
     ]
    }
   ],
   "source": [
    "df.info()"
   ]
  },
  {
   "cell_type": "markdown",
   "id": "8116975a",
   "metadata": {
    "ExecuteTime": {
     "end_time": "2024-05-02T09:11:22.232096Z",
     "start_time": "2024-05-02T09:11:22.207167Z"
    }
   },
   "source": [
    "**data cleaning**"
   ]
  },
  {
   "cell_type": "code",
   "execution_count": 26,
   "id": "52833c48",
   "metadata": {
    "ExecuteTime": {
     "end_time": "2024-05-02T10:02:09.999459Z",
     "start_time": "2024-05-02T10:02:09.987293Z"
    }
   },
   "outputs": [
    {
     "data": {
      "text/plain": [
       "Txn ID               0\n",
       "First Name           0\n",
       "Last Name            0\n",
       "Email                0\n",
       "Job Title            0\n",
       "Product              0\n",
       "Purchase Mode        0\n",
       "Date                 0\n",
       "Purchase Amount    117\n",
       "dtype: int64"
      ]
     },
     "execution_count": 26,
     "metadata": {},
     "output_type": "execute_result"
    }
   ],
   "source": [
    "df.isnull().sum()"
   ]
  },
  {
   "cell_type": "markdown",
   "id": "042623ae",
   "metadata": {},
   "source": [
    "**filling null values**"
   ]
  },
  {
   "cell_type": "code",
   "execution_count": 27,
   "id": "41ff21b7",
   "metadata": {
    "ExecuteTime": {
     "end_time": "2024-05-02T10:02:11.073521Z",
     "start_time": "2024-05-02T10:02:11.057460Z"
    }
   },
   "outputs": [],
   "source": [
    "for i in df.columns:\n",
    "    if df[i].dtype == 'float':\n",
    "        df[i] = df[i].fillna(\"0\")\n",
    "    else:\n",
    "        df[i] = df[i].fillna(df[i])\n",
    "        "
   ]
  },
  {
   "cell_type": "code",
   "execution_count": 28,
   "id": "ba090981",
   "metadata": {
    "ExecuteTime": {
     "end_time": "2024-05-02T10:02:12.272882Z",
     "start_time": "2024-05-02T10:02:12.263256Z"
    }
   },
   "outputs": [
    {
     "data": {
      "text/plain": [
       "Txn ID             0\n",
       "First Name         0\n",
       "Last Name          0\n",
       "Email              0\n",
       "Job Title          0\n",
       "Product            0\n",
       "Purchase Mode      0\n",
       "Date               0\n",
       "Purchase Amount    0\n",
       "dtype: int64"
      ]
     },
     "execution_count": 28,
     "metadata": {},
     "output_type": "execute_result"
    }
   ],
   "source": [
    "df.isnull().sum()"
   ]
  },
  {
   "cell_type": "code",
   "execution_count": 29,
   "id": "5ed7e530",
   "metadata": {
    "ExecuteTime": {
     "end_time": "2024-05-02T10:02:13.208534Z",
     "start_time": "2024-05-02T10:02:13.193004Z"
    }
   },
   "outputs": [
    {
     "data": {
      "text/html": [
       "<div>\n",
       "<style scoped>\n",
       "    .dataframe tbody tr th:only-of-type {\n",
       "        vertical-align: middle;\n",
       "    }\n",
       "\n",
       "    .dataframe tbody tr th {\n",
       "        vertical-align: top;\n",
       "    }\n",
       "\n",
       "    .dataframe thead th {\n",
       "        text-align: right;\n",
       "    }\n",
       "</style>\n",
       "<table border=\"1\" class=\"dataframe\">\n",
       "  <thead>\n",
       "    <tr style=\"text-align: right;\">\n",
       "      <th></th>\n",
       "      <th>Txn ID</th>\n",
       "      <th>First Name</th>\n",
       "      <th>Last Name</th>\n",
       "      <th>Email</th>\n",
       "      <th>Job Title</th>\n",
       "      <th>Product</th>\n",
       "      <th>Purchase Mode</th>\n",
       "      <th>Date</th>\n",
       "      <th>Purchase Amount</th>\n",
       "    </tr>\n",
       "  </thead>\n",
       "  <tbody>\n",
       "    <tr>\n",
       "      <th>0</th>\n",
       "      <td>TX00-01</td>\n",
       "      <td>Yedukondalu</td>\n",
       "      <td>Panditula</td>\n",
       "      <td>ypanditula@hugedomains.com</td>\n",
       "      <td>Office Assistant</td>\n",
       "      <td>Drinking Coco</td>\n",
       "      <td>Website</td>\n",
       "      <td>2023-12-01</td>\n",
       "      <td>0</td>\n",
       "    </tr>\n",
       "    <tr>\n",
       "      <th>1</th>\n",
       "      <td>TX00-02</td>\n",
       "      <td>Ponnan</td>\n",
       "      <td>Delhi</td>\n",
       "      <td>pdelhi@yale.edu</td>\n",
       "      <td>Analyst</td>\n",
       "      <td>Honey Caramel Truffle</td>\n",
       "      <td>App</td>\n",
       "      <td>2023-12-01</td>\n",
       "      <td>0</td>\n",
       "    </tr>\n",
       "    <tr>\n",
       "      <th>2</th>\n",
       "      <td>TX00-03</td>\n",
       "      <td>Prerana</td>\n",
       "      <td>Nishita</td>\n",
       "      <td>pnishita5@google.de</td>\n",
       "      <td>Sales</td>\n",
       "      <td>Hazelnut Praline Bars</td>\n",
       "      <td>Website</td>\n",
       "      <td>2023-12-01</td>\n",
       "      <td>930.0</td>\n",
       "    </tr>\n",
       "    <tr>\n",
       "      <th>3</th>\n",
       "      <td>TX00-04</td>\n",
       "      <td>Subbarao</td>\n",
       "      <td>Malladi</td>\n",
       "      <td>smalladi@gmpg.org</td>\n",
       "      <td>Engineer</td>\n",
       "      <td>Spicy Special Slims</td>\n",
       "      <td>In store</td>\n",
       "      <td>2023-12-02</td>\n",
       "      <td>0</td>\n",
       "    </tr>\n",
       "    <tr>\n",
       "      <th>4</th>\n",
       "      <td>TX00-05</td>\n",
       "      <td>Sarayu</td>\n",
       "      <td>Ragunathan</td>\n",
       "      <td>sragunathan2@nhs.uk</td>\n",
       "      <td>Engineer</td>\n",
       "      <td>Almond Raspberry Cluster</td>\n",
       "      <td>In store</td>\n",
       "      <td>2023-12-02</td>\n",
       "      <td>0</td>\n",
       "    </tr>\n",
       "    <tr>\n",
       "      <th>...</th>\n",
       "      <td>...</td>\n",
       "      <td>...</td>\n",
       "      <td>...</td>\n",
       "      <td>...</td>\n",
       "      <td>...</td>\n",
       "      <td>...</td>\n",
       "      <td>...</td>\n",
       "      <td>...</td>\n",
       "      <td>...</td>\n",
       "    </tr>\n",
       "    <tr>\n",
       "      <th>438</th>\n",
       "      <td>TX04-39</td>\n",
       "      <td>Pragya</td>\n",
       "      <td>Nilufar</td>\n",
       "      <td>pnilufar4@comsenz.com</td>\n",
       "      <td>Professor</td>\n",
       "      <td>50% Dark Bites</td>\n",
       "      <td>Website</td>\n",
       "      <td>2024-02-28</td>\n",
       "      <td>470.0</td>\n",
       "    </tr>\n",
       "    <tr>\n",
       "      <th>439</th>\n",
       "      <td>TX04-40</td>\n",
       "      <td>Amal</td>\n",
       "      <td>Nimesh</td>\n",
       "      <td>animesh@spotify.com</td>\n",
       "      <td>Professor</td>\n",
       "      <td>Milk Bars</td>\n",
       "      <td>Website</td>\n",
       "      <td>2024-02-28</td>\n",
       "      <td>1790.0</td>\n",
       "    </tr>\n",
       "    <tr>\n",
       "      <th>440</th>\n",
       "      <td>TX04-41</td>\n",
       "      <td>Shevantilal</td>\n",
       "      <td>Muppala</td>\n",
       "      <td>smuppala@stumbleupon.com</td>\n",
       "      <td>Engineer</td>\n",
       "      <td>Milk Bars</td>\n",
       "      <td>In store</td>\n",
       "      <td>2024-02-28</td>\n",
       "      <td>80.0</td>\n",
       "    </tr>\n",
       "    <tr>\n",
       "      <th>441</th>\n",
       "      <td>TX04-42</td>\n",
       "      <td>Ilesh</td>\n",
       "      <td>Dasgupta</td>\n",
       "      <td>idasgupta1@yolasite.com</td>\n",
       "      <td>HR</td>\n",
       "      <td>Organic Choco Syrup</td>\n",
       "      <td>Website</td>\n",
       "      <td>2024-02-28</td>\n",
       "      <td>355.0</td>\n",
       "    </tr>\n",
       "    <tr>\n",
       "      <th>442</th>\n",
       "      <td>TX04-43</td>\n",
       "      <td>Kantimoy</td>\n",
       "      <td>Pritish</td>\n",
       "      <td>kpritish5@jigsy.com</td>\n",
       "      <td>Statistician</td>\n",
       "      <td>Eclairs</td>\n",
       "      <td>Phone in</td>\n",
       "      <td>2024-02-28</td>\n",
       "      <td>1135.0</td>\n",
       "    </tr>\n",
       "  </tbody>\n",
       "</table>\n",
       "<p>443 rows × 9 columns</p>\n",
       "</div>"
      ],
      "text/plain": [
       "      Txn ID   First Name   Last Name                       Email  \\\n",
       "0    TX00-01  Yedukondalu   Panditula  ypanditula@hugedomains.com   \n",
       "1    TX00-02       Ponnan       Delhi             pdelhi@yale.edu   \n",
       "2    TX00-03      Prerana     Nishita         pnishita5@google.de   \n",
       "3    TX00-04     Subbarao     Malladi           smalladi@gmpg.org   \n",
       "4    TX00-05       Sarayu  Ragunathan         sragunathan2@nhs.uk   \n",
       "..       ...          ...         ...                         ...   \n",
       "438  TX04-39       Pragya     Nilufar       pnilufar4@comsenz.com   \n",
       "439  TX04-40         Amal      Nimesh         animesh@spotify.com   \n",
       "440  TX04-41  Shevantilal     Muppala    smuppala@stumbleupon.com   \n",
       "441  TX04-42        Ilesh    Dasgupta     idasgupta1@yolasite.com   \n",
       "442  TX04-43     Kantimoy     Pritish         kpritish5@jigsy.com   \n",
       "\n",
       "            Job Title                   Product Purchase Mode       Date  \\\n",
       "0    Office Assistant             Drinking Coco       Website 2023-12-01   \n",
       "1             Analyst     Honey Caramel Truffle           App 2023-12-01   \n",
       "2               Sales     Hazelnut Praline Bars       Website 2023-12-01   \n",
       "3            Engineer       Spicy Special Slims      In store 2023-12-02   \n",
       "4            Engineer  Almond Raspberry Cluster      In store 2023-12-02   \n",
       "..                ...                       ...           ...        ...   \n",
       "438         Professor            50% Dark Bites       Website 2024-02-28   \n",
       "439         Professor                 Milk Bars       Website 2024-02-28   \n",
       "440          Engineer                 Milk Bars      In store 2024-02-28   \n",
       "441                HR       Organic Choco Syrup       Website 2024-02-28   \n",
       "442      Statistician                   Eclairs      Phone in 2024-02-28   \n",
       "\n",
       "    Purchase Amount  \n",
       "0                 0  \n",
       "1                 0  \n",
       "2             930.0  \n",
       "3                 0  \n",
       "4                 0  \n",
       "..              ...  \n",
       "438           470.0  \n",
       "439          1790.0  \n",
       "440            80.0  \n",
       "441           355.0  \n",
       "442          1135.0  \n",
       "\n",
       "[443 rows x 9 columns]"
      ]
     },
     "execution_count": 29,
     "metadata": {},
     "output_type": "execute_result"
    }
   ],
   "source": [
    "df"
   ]
  },
  {
   "cell_type": "code",
   "execution_count": 30,
   "id": "4618560d",
   "metadata": {
    "ExecuteTime": {
     "end_time": "2024-05-02T10:02:14.448558Z",
     "start_time": "2024-05-02T10:02:14.434481Z"
    }
   },
   "outputs": [
    {
     "data": {
      "text/plain": [
       "0"
      ]
     },
     "execution_count": 30,
     "metadata": {},
     "output_type": "execute_result"
    }
   ],
   "source": [
    "df.duplicated().sum()"
   ]
  },
  {
   "cell_type": "code",
   "execution_count": 31,
   "id": "86b479a2",
   "metadata": {
    "ExecuteTime": {
     "end_time": "2024-05-02T10:02:15.377493Z",
     "start_time": "2024-05-02T10:02:15.354038Z"
    }
   },
   "outputs": [
    {
     "name": "stdout",
     "output_type": "stream",
     "text": [
      "TX00-01    1\n",
      "TX02-92    1\n",
      "TX03-03    1\n",
      "TX03-02    1\n",
      "TX03-01    1\n",
      "          ..\n",
      "TX01-45    1\n",
      "TX01-44    1\n",
      "TX01-43    1\n",
      "TX01-42    1\n",
      "TX04-43    1\n",
      "Name: Txn ID, Length: 443, dtype: int64\n",
      "********************************************\n",
      "Sahas          11\n",
      "Suman           9\n",
      "Sameer          9\n",
      "Shevantilal     9\n",
      "Mahindra        9\n",
      "               ..\n",
      "Fullara         2\n",
      "Godavari        2\n",
      "Oorjit          1\n",
      "Suchira         1\n",
      "Vanmala         1\n",
      "Name: First Name, Length: 91, dtype: int64\n",
      "********************************************\n",
      "Sanabhi Shrikant    11\n",
      "Katte                9\n",
      "Shashank Sapra       9\n",
      "Muppala              9\n",
      "Sreedharan           9\n",
      "                    ..\n",
      "Sushanti Mokate      2\n",
      "Veena                2\n",
      "Nandanavanam         1\n",
      "Bhanupriya Tapti     1\n",
      "Shriharsha           1\n",
      "Name: Last Name, Length: 91, dtype: int64\n",
      "********************************************\n",
      "ssanabhi.shrikant3@ted.com         11\n",
      "skatte@flavors.me                   9\n",
      "sshashank.sapra@oaic.gov.au         9\n",
      "smuppala@stumbleupon.com            9\n",
      "msreedharan1@tinypic.com            9\n",
      "                                   ..\n",
      "fsushanti.mokate8@cisco.com         2\n",
      "gveena3@pcworld.com                 2\n",
      "onandanavanam@ustream.tv            1\n",
      "sbhanupriya.tapti3@trellian.com     1\n",
      "vshriharsha@infoseek.co.jp          1\n",
      "Name: Email, Length: 91, dtype: int64\n",
      "********************************************\n",
      "Office Assistant        72\n",
      "Engineer                69\n",
      "Professor               59\n",
      "Analyst                 47\n",
      "Sales                   42\n",
      "Tech Support            40\n",
      "Doctor                  27\n",
      "Accountant              23\n",
      "HR                      22\n",
      "VP                      15\n",
      "Statistician            11\n",
      "Finance Professional    10\n",
      "Administrator            3\n",
      "Operator                 3\n",
      "Name: Job Title, dtype: int64\n",
      "********************************************\n",
      "Organic Choco Syrup        18\n",
      "Spicy Special Slims        17\n",
      "Eclairs                    16\n",
      "Mint Chip Choco            16\n",
      "99% Dark & Pure            16\n",
      "                           ..\n",
      "Honey Caramel Truffle       2\n",
      "Lavender Honey Ganache      2\n",
      "Cappuccino Filled Choco     2\n",
      "Coconut Almond Joy          2\n",
      "Peanut Brittle Bliss        1\n",
      "Name: Product, Length: 62, dtype: int64\n",
      "********************************************\n",
      "Website     182\n",
      "App         130\n",
      "In store    105\n",
      "Phone in     26\n",
      "Name: Purchase Mode, dtype: int64\n",
      "********************************************\n",
      "0         117\n",
      "785.0       5\n",
      "370.0       5\n",
      "775.0       4\n",
      "365.0       4\n",
      "         ... \n",
      "2075.0      1\n",
      "1275.0      1\n",
      "1120.0      1\n",
      "760.0       1\n",
      "1790.0      1\n",
      "Name: Purchase Amount, Length: 202, dtype: int64\n",
      "********************************************\n"
     ]
    }
   ],
   "source": [
    "for i in df:\n",
    "    if df[i].dtype == 'object':\n",
    "        print(df[i].value_counts())\n",
    "        print('********************************************')"
   ]
  },
  {
   "cell_type": "code",
   "execution_count": null,
   "id": "0f05a173",
   "metadata": {},
   "outputs": [],
   "source": [
    "#df['status'] = df['Purchase Amount'].replace(\"Purchase_Amount\",'Purchased')"
   ]
  },
  {
   "cell_type": "code",
   "execution_count": 37,
   "id": "0d9378ce",
   "metadata": {
    "ExecuteTime": {
     "end_time": "2024-05-02T10:03:22.137492Z",
     "start_time": "2024-05-02T10:03:22.121223Z"
    }
   },
   "outputs": [],
   "source": [
    "df['status'] = np.where(df['Purchase Amount'] == '0', 'Not_Purchased', 'Purchased')"
   ]
  },
  {
   "cell_type": "code",
   "execution_count": 38,
   "id": "32e9bb61",
   "metadata": {
    "ExecuteTime": {
     "end_time": "2024-05-02T10:03:23.287658Z",
     "start_time": "2024-05-02T10:03:23.267610Z"
    }
   },
   "outputs": [
    {
     "data": {
      "text/plain": [
       "0      Not_Purchased\n",
       "1      Not_Purchased\n",
       "2          Purchased\n",
       "3      Not_Purchased\n",
       "4      Not_Purchased\n",
       "           ...      \n",
       "438        Purchased\n",
       "439        Purchased\n",
       "440        Purchased\n",
       "441        Purchased\n",
       "442        Purchased\n",
       "Name: status, Length: 443, dtype: object"
      ]
     },
     "execution_count": 38,
     "metadata": {},
     "output_type": "execute_result"
    }
   ],
   "source": [
    "df['status']"
   ]
  },
  {
   "cell_type": "code",
   "execution_count": 39,
   "id": "8f31c555",
   "metadata": {
    "ExecuteTime": {
     "end_time": "2024-05-02T10:03:23.814021Z",
     "start_time": "2024-05-02T10:03:23.786303Z"
    }
   },
   "outputs": [
    {
     "data": {
      "text/html": [
       "<div>\n",
       "<style scoped>\n",
       "    .dataframe tbody tr th:only-of-type {\n",
       "        vertical-align: middle;\n",
       "    }\n",
       "\n",
       "    .dataframe tbody tr th {\n",
       "        vertical-align: top;\n",
       "    }\n",
       "\n",
       "    .dataframe thead th {\n",
       "        text-align: right;\n",
       "    }\n",
       "</style>\n",
       "<table border=\"1\" class=\"dataframe\">\n",
       "  <thead>\n",
       "    <tr style=\"text-align: right;\">\n",
       "      <th></th>\n",
       "      <th>Txn ID</th>\n",
       "      <th>First Name</th>\n",
       "      <th>Last Name</th>\n",
       "      <th>Email</th>\n",
       "      <th>Job Title</th>\n",
       "      <th>Product</th>\n",
       "      <th>Purchase Mode</th>\n",
       "      <th>Date</th>\n",
       "      <th>Purchase Amount</th>\n",
       "      <th>status</th>\n",
       "    </tr>\n",
       "  </thead>\n",
       "  <tbody>\n",
       "    <tr>\n",
       "      <th>0</th>\n",
       "      <td>TX00-01</td>\n",
       "      <td>Yedukondalu</td>\n",
       "      <td>Panditula</td>\n",
       "      <td>ypanditula@hugedomains.com</td>\n",
       "      <td>Office Assistant</td>\n",
       "      <td>Drinking Coco</td>\n",
       "      <td>Website</td>\n",
       "      <td>2023-12-01</td>\n",
       "      <td>0</td>\n",
       "      <td>Not_Purchased</td>\n",
       "    </tr>\n",
       "    <tr>\n",
       "      <th>1</th>\n",
       "      <td>TX00-02</td>\n",
       "      <td>Ponnan</td>\n",
       "      <td>Delhi</td>\n",
       "      <td>pdelhi@yale.edu</td>\n",
       "      <td>Analyst</td>\n",
       "      <td>Honey Caramel Truffle</td>\n",
       "      <td>App</td>\n",
       "      <td>2023-12-01</td>\n",
       "      <td>0</td>\n",
       "      <td>Not_Purchased</td>\n",
       "    </tr>\n",
       "    <tr>\n",
       "      <th>2</th>\n",
       "      <td>TX00-03</td>\n",
       "      <td>Prerana</td>\n",
       "      <td>Nishita</td>\n",
       "      <td>pnishita5@google.de</td>\n",
       "      <td>Sales</td>\n",
       "      <td>Hazelnut Praline Bars</td>\n",
       "      <td>Website</td>\n",
       "      <td>2023-12-01</td>\n",
       "      <td>930.0</td>\n",
       "      <td>Purchased</td>\n",
       "    </tr>\n",
       "    <tr>\n",
       "      <th>3</th>\n",
       "      <td>TX00-04</td>\n",
       "      <td>Subbarao</td>\n",
       "      <td>Malladi</td>\n",
       "      <td>smalladi@gmpg.org</td>\n",
       "      <td>Engineer</td>\n",
       "      <td>Spicy Special Slims</td>\n",
       "      <td>In store</td>\n",
       "      <td>2023-12-02</td>\n",
       "      <td>0</td>\n",
       "      <td>Not_Purchased</td>\n",
       "    </tr>\n",
       "    <tr>\n",
       "      <th>4</th>\n",
       "      <td>TX00-05</td>\n",
       "      <td>Sarayu</td>\n",
       "      <td>Ragunathan</td>\n",
       "      <td>sragunathan2@nhs.uk</td>\n",
       "      <td>Engineer</td>\n",
       "      <td>Almond Raspberry Cluster</td>\n",
       "      <td>In store</td>\n",
       "      <td>2023-12-02</td>\n",
       "      <td>0</td>\n",
       "      <td>Not_Purchased</td>\n",
       "    </tr>\n",
       "  </tbody>\n",
       "</table>\n",
       "</div>"
      ],
      "text/plain": [
       "    Txn ID   First Name   Last Name                       Email  \\\n",
       "0  TX00-01  Yedukondalu   Panditula  ypanditula@hugedomains.com   \n",
       "1  TX00-02       Ponnan       Delhi             pdelhi@yale.edu   \n",
       "2  TX00-03      Prerana     Nishita         pnishita5@google.de   \n",
       "3  TX00-04     Subbarao     Malladi           smalladi@gmpg.org   \n",
       "4  TX00-05       Sarayu  Ragunathan         sragunathan2@nhs.uk   \n",
       "\n",
       "          Job Title                   Product Purchase Mode       Date  \\\n",
       "0  Office Assistant             Drinking Coco       Website 2023-12-01   \n",
       "1           Analyst     Honey Caramel Truffle           App 2023-12-01   \n",
       "2             Sales     Hazelnut Praline Bars       Website 2023-12-01   \n",
       "3          Engineer       Spicy Special Slims      In store 2023-12-02   \n",
       "4          Engineer  Almond Raspberry Cluster      In store 2023-12-02   \n",
       "\n",
       "  Purchase Amount         status  \n",
       "0               0  Not_Purchased  \n",
       "1               0  Not_Purchased  \n",
       "2           930.0      Purchased  \n",
       "3               0  Not_Purchased  \n",
       "4               0  Not_Purchased  "
      ]
     },
     "execution_count": 39,
     "metadata": {},
     "output_type": "execute_result"
    }
   ],
   "source": [
    "df.head()"
   ]
  },
  {
   "cell_type": "markdown",
   "id": "2a1f328b",
   "metadata": {},
   "source": [
    "**EDA**"
   ]
  },
  {
   "cell_type": "code",
   "execution_count": 40,
   "id": "0693e354",
   "metadata": {
    "ExecuteTime": {
     "end_time": "2024-05-02T10:03:30.827572Z",
     "start_time": "2024-05-02T10:03:30.812296Z"
    }
   },
   "outputs": [
    {
     "ename": "SyntaxError",
     "evalue": "invalid syntax (3058164262.py, line 1)",
     "output_type": "error",
     "traceback": [
      "\u001b[1;36m  File \u001b[1;32m\"C:\\Users\\sai prathyusha\\AppData\\Local\\Temp\\ipykernel_15268\\3058164262.py\"\u001b[1;36m, line \u001b[1;32m1\u001b[0m\n\u001b[1;33m    pd.crosstab(df.Job Title,df.status)\u001b[0m\n\u001b[1;37m                       ^\u001b[0m\n\u001b[1;31mSyntaxError\u001b[0m\u001b[1;31m:\u001b[0m invalid syntax\n"
     ]
    }
   ],
   "source": [
    "pd.crosstab(df.Job Title,df.status)"
   ]
  },
  {
   "cell_type": "code",
   "execution_count": 41,
   "id": "6dad983d",
   "metadata": {
    "ExecuteTime": {
     "end_time": "2024-05-02T10:03:32.479850Z",
     "start_time": "2024-05-02T10:03:32.448728Z"
    }
   },
   "outputs": [
    {
     "data": {
      "text/plain": [
       "Index(['Txn_ID', 'First_name', 'Last_name', 'Email', 'job_title', 'Product',\n",
       "       'Purchase_mode', 'Date', 'Purchase_Amount', 'status'],\n",
       "      dtype='object')"
      ]
     },
     "execution_count": 41,
     "metadata": {},
     "output_type": "execute_result"
    }
   ],
   "source": [
    "df = df.rename(columns={'Txn ID': 'Txn_ID',\n",
    "           'First Name':'First_name',\n",
    "           'Last Name':'Last_name',\n",
    "           'Job Title' : 'job_title',\n",
    "           'Purchase Mode' : 'Purchase_mode',\n",
    "           'Purchase Amount' : 'Purchase_Amount'\n",
    "           })\n",
    "df.columns"
   ]
  },
  {
   "cell_type": "code",
   "execution_count": 42,
   "id": "14a21cef",
   "metadata": {
    "ExecuteTime": {
     "end_time": "2024-05-02T10:03:34.192163Z",
     "start_time": "2024-05-02T10:03:34.160250Z"
    }
   },
   "outputs": [
    {
     "data": {
      "text/html": [
       "<div>\n",
       "<style scoped>\n",
       "    .dataframe tbody tr th:only-of-type {\n",
       "        vertical-align: middle;\n",
       "    }\n",
       "\n",
       "    .dataframe tbody tr th {\n",
       "        vertical-align: top;\n",
       "    }\n",
       "\n",
       "    .dataframe thead th {\n",
       "        text-align: right;\n",
       "    }\n",
       "</style>\n",
       "<table border=\"1\" class=\"dataframe\">\n",
       "  <thead>\n",
       "    <tr style=\"text-align: right;\">\n",
       "      <th>status</th>\n",
       "      <th>Not_Purchased</th>\n",
       "      <th>Purchased</th>\n",
       "    </tr>\n",
       "    <tr>\n",
       "      <th>job_title</th>\n",
       "      <th></th>\n",
       "      <th></th>\n",
       "    </tr>\n",
       "  </thead>\n",
       "  <tbody>\n",
       "    <tr>\n",
       "      <th>Accountant</th>\n",
       "      <td>4</td>\n",
       "      <td>19</td>\n",
       "    </tr>\n",
       "    <tr>\n",
       "      <th>Administrator</th>\n",
       "      <td>1</td>\n",
       "      <td>2</td>\n",
       "    </tr>\n",
       "    <tr>\n",
       "      <th>Analyst</th>\n",
       "      <td>10</td>\n",
       "      <td>37</td>\n",
       "    </tr>\n",
       "    <tr>\n",
       "      <th>Doctor</th>\n",
       "      <td>7</td>\n",
       "      <td>20</td>\n",
       "    </tr>\n",
       "    <tr>\n",
       "      <th>Engineer</th>\n",
       "      <td>23</td>\n",
       "      <td>46</td>\n",
       "    </tr>\n",
       "    <tr>\n",
       "      <th>Finance Professional</th>\n",
       "      <td>3</td>\n",
       "      <td>7</td>\n",
       "    </tr>\n",
       "    <tr>\n",
       "      <th>HR</th>\n",
       "      <td>6</td>\n",
       "      <td>16</td>\n",
       "    </tr>\n",
       "    <tr>\n",
       "      <th>Office Assistant</th>\n",
       "      <td>20</td>\n",
       "      <td>52</td>\n",
       "    </tr>\n",
       "    <tr>\n",
       "      <th>Operator</th>\n",
       "      <td>0</td>\n",
       "      <td>3</td>\n",
       "    </tr>\n",
       "    <tr>\n",
       "      <th>Professor</th>\n",
       "      <td>15</td>\n",
       "      <td>44</td>\n",
       "    </tr>\n",
       "    <tr>\n",
       "      <th>Sales</th>\n",
       "      <td>13</td>\n",
       "      <td>29</td>\n",
       "    </tr>\n",
       "    <tr>\n",
       "      <th>Statistician</th>\n",
       "      <td>3</td>\n",
       "      <td>8</td>\n",
       "    </tr>\n",
       "    <tr>\n",
       "      <th>Tech Support</th>\n",
       "      <td>7</td>\n",
       "      <td>33</td>\n",
       "    </tr>\n",
       "    <tr>\n",
       "      <th>VP</th>\n",
       "      <td>5</td>\n",
       "      <td>10</td>\n",
       "    </tr>\n",
       "  </tbody>\n",
       "</table>\n",
       "</div>"
      ],
      "text/plain": [
       "status                Not_Purchased  Purchased\n",
       "job_title                                     \n",
       "Accountant                        4         19\n",
       "Administrator                     1          2\n",
       "Analyst                          10         37\n",
       "Doctor                            7         20\n",
       "Engineer                         23         46\n",
       "Finance Professional              3          7\n",
       "HR                                6         16\n",
       "Office Assistant                 20         52\n",
       "Operator                          0          3\n",
       "Professor                        15         44\n",
       "Sales                            13         29\n",
       "Statistician                      3          8\n",
       "Tech Support                      7         33\n",
       "VP                                5         10"
      ]
     },
     "execution_count": 42,
     "metadata": {},
     "output_type": "execute_result"
    }
   ],
   "source": [
    "pd.crosstab(df.job_title,df.status)"
   ]
  },
  {
   "cell_type": "code",
   "execution_count": 44,
   "id": "5467a166",
   "metadata": {
    "ExecuteTime": {
     "end_time": "2024-05-02T10:03:41.775051Z",
     "start_time": "2024-05-02T10:03:41.751856Z"
    }
   },
   "outputs": [
    {
     "data": {
      "text/html": [
       "<div>\n",
       "<style scoped>\n",
       "    .dataframe tbody tr th:only-of-type {\n",
       "        vertical-align: middle;\n",
       "    }\n",
       "\n",
       "    .dataframe tbody tr th {\n",
       "        vertical-align: top;\n",
       "    }\n",
       "\n",
       "    .dataframe thead th {\n",
       "        text-align: right;\n",
       "    }\n",
       "</style>\n",
       "<table border=\"1\" class=\"dataframe\">\n",
       "  <thead>\n",
       "    <tr style=\"text-align: right;\">\n",
       "      <th>status</th>\n",
       "      <th>Not_Purchased</th>\n",
       "      <th>Purchased</th>\n",
       "    </tr>\n",
       "    <tr>\n",
       "      <th>Purchase_mode</th>\n",
       "      <th></th>\n",
       "      <th></th>\n",
       "    </tr>\n",
       "  </thead>\n",
       "  <tbody>\n",
       "    <tr>\n",
       "      <th>App</th>\n",
       "      <td>34</td>\n",
       "      <td>96</td>\n",
       "    </tr>\n",
       "    <tr>\n",
       "      <th>In store</th>\n",
       "      <td>25</td>\n",
       "      <td>80</td>\n",
       "    </tr>\n",
       "    <tr>\n",
       "      <th>Phone in</th>\n",
       "      <td>7</td>\n",
       "      <td>19</td>\n",
       "    </tr>\n",
       "    <tr>\n",
       "      <th>Website</th>\n",
       "      <td>51</td>\n",
       "      <td>131</td>\n",
       "    </tr>\n",
       "  </tbody>\n",
       "</table>\n",
       "</div>"
      ],
      "text/plain": [
       "status         Not_Purchased  Purchased\n",
       "Purchase_mode                          \n",
       "App                       34         96\n",
       "In store                  25         80\n",
       "Phone in                   7         19\n",
       "Website                   51        131"
      ]
     },
     "execution_count": 44,
     "metadata": {},
     "output_type": "execute_result"
    }
   ],
   "source": [
    "pd.crosstab(df.Purchase_mode, df.status)"
   ]
  },
  {
   "cell_type": "code",
   "execution_count": 46,
   "id": "0143df98",
   "metadata": {
    "ExecuteTime": {
     "end_time": "2024-05-02T10:04:09.502387Z",
     "start_time": "2024-05-02T10:04:09.473649Z"
    }
   },
   "outputs": [
    {
     "data": {
      "text/html": [
       "<div>\n",
       "<style scoped>\n",
       "    .dataframe tbody tr th:only-of-type {\n",
       "        vertical-align: middle;\n",
       "    }\n",
       "\n",
       "    .dataframe tbody tr th {\n",
       "        vertical-align: top;\n",
       "    }\n",
       "\n",
       "    .dataframe thead th {\n",
       "        text-align: right;\n",
       "    }\n",
       "</style>\n",
       "<table border=\"1\" class=\"dataframe\">\n",
       "  <thead>\n",
       "    <tr style=\"text-align: right;\">\n",
       "      <th>job_title</th>\n",
       "      <th>Accountant</th>\n",
       "      <th>Administrator</th>\n",
       "      <th>Analyst</th>\n",
       "      <th>Doctor</th>\n",
       "      <th>Engineer</th>\n",
       "      <th>Finance Professional</th>\n",
       "      <th>HR</th>\n",
       "      <th>Office Assistant</th>\n",
       "      <th>Operator</th>\n",
       "      <th>Professor</th>\n",
       "      <th>Sales</th>\n",
       "      <th>Statistician</th>\n",
       "      <th>Tech Support</th>\n",
       "      <th>VP</th>\n",
       "    </tr>\n",
       "    <tr>\n",
       "      <th>Purchase_mode</th>\n",
       "      <th></th>\n",
       "      <th></th>\n",
       "      <th></th>\n",
       "      <th></th>\n",
       "      <th></th>\n",
       "      <th></th>\n",
       "      <th></th>\n",
       "      <th></th>\n",
       "      <th></th>\n",
       "      <th></th>\n",
       "      <th></th>\n",
       "      <th></th>\n",
       "      <th></th>\n",
       "      <th></th>\n",
       "    </tr>\n",
       "  </thead>\n",
       "  <tbody>\n",
       "    <tr>\n",
       "      <th>App</th>\n",
       "      <td>6</td>\n",
       "      <td>0</td>\n",
       "      <td>19</td>\n",
       "      <td>8</td>\n",
       "      <td>20</td>\n",
       "      <td>3</td>\n",
       "      <td>7</td>\n",
       "      <td>21</td>\n",
       "      <td>0</td>\n",
       "      <td>16</td>\n",
       "      <td>8</td>\n",
       "      <td>6</td>\n",
       "      <td>10</td>\n",
       "      <td>6</td>\n",
       "    </tr>\n",
       "    <tr>\n",
       "      <th>In store</th>\n",
       "      <td>4</td>\n",
       "      <td>1</td>\n",
       "      <td>7</td>\n",
       "      <td>3</td>\n",
       "      <td>20</td>\n",
       "      <td>3</td>\n",
       "      <td>5</td>\n",
       "      <td>17</td>\n",
       "      <td>0</td>\n",
       "      <td>18</td>\n",
       "      <td>15</td>\n",
       "      <td>1</td>\n",
       "      <td>10</td>\n",
       "      <td>1</td>\n",
       "    </tr>\n",
       "    <tr>\n",
       "      <th>Phone in</th>\n",
       "      <td>2</td>\n",
       "      <td>0</td>\n",
       "      <td>3</td>\n",
       "      <td>1</td>\n",
       "      <td>3</td>\n",
       "      <td>2</td>\n",
       "      <td>2</td>\n",
       "      <td>3</td>\n",
       "      <td>0</td>\n",
       "      <td>4</td>\n",
       "      <td>1</td>\n",
       "      <td>2</td>\n",
       "      <td>1</td>\n",
       "      <td>2</td>\n",
       "    </tr>\n",
       "    <tr>\n",
       "      <th>Website</th>\n",
       "      <td>11</td>\n",
       "      <td>2</td>\n",
       "      <td>18</td>\n",
       "      <td>15</td>\n",
       "      <td>26</td>\n",
       "      <td>2</td>\n",
       "      <td>8</td>\n",
       "      <td>31</td>\n",
       "      <td>3</td>\n",
       "      <td>21</td>\n",
       "      <td>18</td>\n",
       "      <td>2</td>\n",
       "      <td>19</td>\n",
       "      <td>6</td>\n",
       "    </tr>\n",
       "  </tbody>\n",
       "</table>\n",
       "</div>"
      ],
      "text/plain": [
       "job_title      Accountant  Administrator  Analyst  Doctor  Engineer  \\\n",
       "Purchase_mode                                                         \n",
       "App                     6              0       19       8        20   \n",
       "In store                4              1        7       3        20   \n",
       "Phone in                2              0        3       1         3   \n",
       "Website                11              2       18      15        26   \n",
       "\n",
       "job_title      Finance Professional  HR  Office Assistant  Operator  \\\n",
       "Purchase_mode                                                         \n",
       "App                               3   7                21         0   \n",
       "In store                          3   5                17         0   \n",
       "Phone in                          2   2                 3         0   \n",
       "Website                           2   8                31         3   \n",
       "\n",
       "job_title      Professor  Sales  Statistician  Tech Support  VP  \n",
       "Purchase_mode                                                    \n",
       "App                   16      8             6            10   6  \n",
       "In store              18     15             1            10   1  \n",
       "Phone in               4      1             2             1   2  \n",
       "Website               21     18             2            19   6  "
      ]
     },
     "execution_count": 46,
     "metadata": {},
     "output_type": "execute_result"
    }
   ],
   "source": [
    "pd.crosstab(df.Purchase_mode, df.job_title)"
   ]
  },
  {
   "cell_type": "markdown",
   "id": "9618c79b",
   "metadata": {},
   "source": [
    "**Visualizations**"
   ]
  },
  {
   "cell_type": "code",
   "execution_count": 94,
   "id": "d08b361b",
   "metadata": {
    "ExecuteTime": {
     "end_time": "2024-05-02T09:45:10.442904Z",
     "start_time": "2024-05-02T09:45:10.363993Z"
    }
   },
   "outputs": [
    {
     "data": {
      "text/plain": [
       "<AxesSubplot:ylabel='status'>"
      ]
     },
     "execution_count": 94,
     "metadata": {},
     "output_type": "execute_result"
    },
    {
     "data": {
      "image/png": "[encoded data removed]",
      "text/plain": [
       "<Figure size 640x480 with 1 Axes>"
      ]
     },
     "metadata": {},
     "output_type": "display_data"
    }
   ],
   "source": [
    "df['status'].value_counts().plot(kind = 'pie', autopct =' %1.1f%%')"
   ]
  },
  {
   "cell_type": "code",
   "execution_count": 99,
   "id": "6293e2d1",
   "metadata": {
    "ExecuteTime": {
     "end_time": "2024-05-02T09:48:59.800826Z",
     "start_time": "2024-05-02T09:48:59.551987Z"
    }
   },
   "outputs": [
    {
     "data": {
      "text/plain": [
       "<seaborn.axisgrid.FacetGrid at 0x19afa4fbdc0>"
      ]
     },
     "execution_count": 99,
     "metadata": {},
     "output_type": "execute_result"
    },
    {
     "data": {
      "image/png": "[encoded data removed]",
      "text/plain": [
       "<Figure size 650.75x500 with 1 Axes>"
      ]
     },
     "metadata": {},
     "output_type": "display_data"
    }
   ],
   "source": [
    "sns.catplot(data=df, y = 'job_title',hue=\"status\",kind='count')"
   ]
  },
  {
   "cell_type": "code",
   "execution_count": 107,
   "id": "02f05ada",
   "metadata": {
    "ExecuteTime": {
     "end_time": "2024-05-02T09:52:47.665242Z",
     "start_time": "2024-05-02T09:52:47.397136Z"
    }
   },
   "outputs": [
    {
     "data": {
      "text/plain": [
       "<seaborn.axisgrid.FacetGrid at 0x19aff655fd0>"
      ]
     },
     "execution_count": 107,
     "metadata": {},
     "output_type": "execute_result"
    },
    {
     "data": {
      "image/png": "[encoded data removed]",
      "text/plain": [
       "<Figure size 620.611x500 with 1 Axes>"
      ]
     },
     "metadata": {},
     "output_type": "display_data"
    }
   ],
   "source": [
    "#lt.figure(figsize=(10,20))\n",
    "sns.catplot(data=df, y= 'job_title',hue='Purchase_mode', kind='count')"
   ]
  },
  {
   "cell_type": "code",
   "execution_count": 109,
   "id": "f9011e76",
   "metadata": {
    "ExecuteTime": {
     "end_time": "2024-05-02T09:53:22.145759Z",
     "start_time": "2024-05-02T09:53:22.084143Z"
    }
   },
   "outputs": [
    {
     "ename": "TypeError",
     "evalue": "can only concatenate str (not \"float\") to str",
     "output_type": "error",
     "traceback": [
      "\u001b[1;31m---------------------------------------------------------------------------\u001b[0m",
      "\u001b[1;31mTypeError\u001b[0m                                 Traceback (most recent call last)",
      "\u001b[1;32m~\\AppData\\Local\\Temp\\ipykernel_5896\\1077402675.py\u001b[0m in \u001b[0;36m<module>\u001b[1;34m\u001b[0m\n\u001b[1;32m----> 1\u001b[1;33m \u001b[0mdf\u001b[0m\u001b[1;33m[\u001b[0m\u001b[1;34m'Purchase_Amount'\u001b[0m\u001b[1;33m]\u001b[0m\u001b[1;33m.\u001b[0m\u001b[0mmean\u001b[0m\u001b[1;33m(\u001b[0m\u001b[1;33m)\u001b[0m\u001b[1;33m\u001b[0m\u001b[1;33m\u001b[0m\u001b[0m\n\u001b[0m",
      "\u001b[1;32mC:\\conda_new\\lib\\site-packages\\pandas\\core\\generic.py\u001b[0m in \u001b[0;36mmean\u001b[1;34m(self, axis, skipna, level, numeric_only, **kwargs)\u001b[0m\n\u001b[0;32m  11122\u001b[0m             \u001b[1;33m**\u001b[0m\u001b[0mkwargs\u001b[0m\u001b[1;33m,\u001b[0m\u001b[1;33m\u001b[0m\u001b[1;33m\u001b[0m\u001b[0m\n\u001b[0;32m  11123\u001b[0m         ):\n\u001b[1;32m> 11124\u001b[1;33m             \u001b[1;32mreturn\u001b[0m \u001b[0mNDFrame\u001b[0m\u001b[1;33m.\u001b[0m\u001b[0mmean\u001b[0m\u001b[1;33m(\u001b[0m\u001b[0mself\u001b[0m\u001b[1;33m,\u001b[0m \u001b[0maxis\u001b[0m\u001b[1;33m,\u001b[0m \u001b[0mskipna\u001b[0m\u001b[1;33m,\u001b[0m \u001b[0mlevel\u001b[0m\u001b[1;33m,\u001b[0m \u001b[0mnumeric_only\u001b[0m\u001b[1;33m,\u001b[0m \u001b[1;33m**\u001b[0m\u001b[0mkwargs\u001b[0m\u001b[1;33m)\u001b[0m\u001b[1;33m\u001b[0m\u001b[1;33m\u001b[0m\u001b[0m\n\u001b[0m\u001b[0;32m  11125\u001b[0m \u001b[1;33m\u001b[0m\u001b[0m\n\u001b[0;32m  11126\u001b[0m         \u001b[0msetattr\u001b[0m\u001b[1;33m(\u001b[0m\u001b[0mcls\u001b[0m\u001b[1;33m,\u001b[0m \u001b[1;34m\"mean\"\u001b[0m\u001b[1;33m,\u001b[0m \u001b[0mmean\u001b[0m\u001b[1;33m)\u001b[0m\u001b[1;33m\u001b[0m\u001b[1;33m\u001b[0m\u001b[0m\n",
      "\u001b[1;32mC:\\conda_new\\lib\\site-packages\\pandas\\core\\generic.py\u001b[0m in \u001b[0;36mmean\u001b[1;34m(self, axis, skipna, level, numeric_only, **kwargs)\u001b[0m\n\u001b[0;32m  10692\u001b[0m         \u001b[1;33m**\u001b[0m\u001b[0mkwargs\u001b[0m\u001b[1;33m,\u001b[0m\u001b[1;33m\u001b[0m\u001b[1;33m\u001b[0m\u001b[0m\n\u001b[0;32m  10693\u001b[0m     ) -> Series | float:\n\u001b[1;32m> 10694\u001b[1;33m         return self._stat_function(\n\u001b[0m\u001b[0;32m  10695\u001b[0m             \u001b[1;34m\"mean\"\u001b[0m\u001b[1;33m,\u001b[0m \u001b[0mnanops\u001b[0m\u001b[1;33m.\u001b[0m\u001b[0mnanmean\u001b[0m\u001b[1;33m,\u001b[0m \u001b[0maxis\u001b[0m\u001b[1;33m,\u001b[0m \u001b[0mskipna\u001b[0m\u001b[1;33m,\u001b[0m \u001b[0mlevel\u001b[0m\u001b[1;33m,\u001b[0m \u001b[0mnumeric_only\u001b[0m\u001b[1;33m,\u001b[0m \u001b[1;33m**\u001b[0m\u001b[0mkwargs\u001b[0m\u001b[1;33m\u001b[0m\u001b[1;33m\u001b[0m\u001b[0m\n\u001b[0;32m  10696\u001b[0m         )\n",
      "\u001b[1;32mC:\\conda_new\\lib\\site-packages\\pandas\\core\\generic.py\u001b[0m in \u001b[0;36m_stat_function\u001b[1;34m(self, name, func, axis, skipna, level, numeric_only, **kwargs)\u001b[0m\n\u001b[0;32m  10644\u001b[0m                 \u001b[0mname\u001b[0m\u001b[1;33m,\u001b[0m \u001b[0maxis\u001b[0m\u001b[1;33m=\u001b[0m\u001b[0maxis\u001b[0m\u001b[1;33m,\u001b[0m \u001b[0mlevel\u001b[0m\u001b[1;33m=\u001b[0m\u001b[0mlevel\u001b[0m\u001b[1;33m,\u001b[0m \u001b[0mskipna\u001b[0m\u001b[1;33m=\u001b[0m\u001b[0mskipna\u001b[0m\u001b[1;33m,\u001b[0m \u001b[0mnumeric_only\u001b[0m\u001b[1;33m=\u001b[0m\u001b[0mnumeric_only\u001b[0m\u001b[1;33m\u001b[0m\u001b[1;33m\u001b[0m\u001b[0m\n\u001b[0;32m  10645\u001b[0m             )\n\u001b[1;32m> 10646\u001b[1;33m         return self._reduce(\n\u001b[0m\u001b[0;32m  10647\u001b[0m             \u001b[0mfunc\u001b[0m\u001b[1;33m,\u001b[0m \u001b[0mname\u001b[0m\u001b[1;33m=\u001b[0m\u001b[0mname\u001b[0m\u001b[1;33m,\u001b[0m \u001b[0maxis\u001b[0m\u001b[1;33m=\u001b[0m\u001b[0maxis\u001b[0m\u001b[1;33m,\u001b[0m \u001b[0mskipna\u001b[0m\u001b[1;33m=\u001b[0m\u001b[0mskipna\u001b[0m\u001b[1;33m,\u001b[0m \u001b[0mnumeric_only\u001b[0m\u001b[1;33m=\u001b[0m\u001b[0mnumeric_only\u001b[0m\u001b[1;33m\u001b[0m\u001b[1;33m\u001b[0m\u001b[0m\n\u001b[0;32m  10648\u001b[0m         )\n",
      "\u001b[1;32mC:\\conda_new\\lib\\site-packages\\pandas\\core\\series.py\u001b[0m in \u001b[0;36m_reduce\u001b[1;34m(self, op, name, axis, skipna, numeric_only, filter_type, **kwds)\u001b[0m\n\u001b[0;32m   4469\u001b[0m                 )\n\u001b[0;32m   4470\u001b[0m             \u001b[1;32mwith\u001b[0m \u001b[0mnp\u001b[0m\u001b[1;33m.\u001b[0m\u001b[0merrstate\u001b[0m\u001b[1;33m(\u001b[0m\u001b[0mall\u001b[0m\u001b[1;33m=\u001b[0m\u001b[1;34m\"ignore\"\u001b[0m\u001b[1;33m)\u001b[0m\u001b[1;33m:\u001b[0m\u001b[1;33m\u001b[0m\u001b[1;33m\u001b[0m\u001b[0m\n\u001b[1;32m-> 4471\u001b[1;33m                 \u001b[1;32mreturn\u001b[0m \u001b[0mop\u001b[0m\u001b[1;33m(\u001b[0m\u001b[0mdelegate\u001b[0m\u001b[1;33m,\u001b[0m \u001b[0mskipna\u001b[0m\u001b[1;33m=\u001b[0m\u001b[0mskipna\u001b[0m\u001b[1;33m,\u001b[0m \u001b[1;33m**\u001b[0m\u001b[0mkwds\u001b[0m\u001b[1;33m)\u001b[0m\u001b[1;33m\u001b[0m\u001b[1;33m\u001b[0m\u001b[0m\n\u001b[0m\u001b[0;32m   4472\u001b[0m \u001b[1;33m\u001b[0m\u001b[0m\n\u001b[0;32m   4473\u001b[0m     def _reindex_indexer(\n",
      "\u001b[1;32mC:\\conda_new\\lib\\site-packages\\pandas\\core\\nanops.py\u001b[0m in \u001b[0;36m_f\u001b[1;34m(*args, **kwargs)\u001b[0m\n\u001b[0;32m     91\u001b[0m             \u001b[1;32mtry\u001b[0m\u001b[1;33m:\u001b[0m\u001b[1;33m\u001b[0m\u001b[1;33m\u001b[0m\u001b[0m\n\u001b[0;32m     92\u001b[0m                 \u001b[1;32mwith\u001b[0m \u001b[0mnp\u001b[0m\u001b[1;33m.\u001b[0m\u001b[0merrstate\u001b[0m\u001b[1;33m(\u001b[0m\u001b[0minvalid\u001b[0m\u001b[1;33m=\u001b[0m\u001b[1;34m\"ignore\"\u001b[0m\u001b[1;33m)\u001b[0m\u001b[1;33m:\u001b[0m\u001b[1;33m\u001b[0m\u001b[1;33m\u001b[0m\u001b[0m\n\u001b[1;32m---> 93\u001b[1;33m                     \u001b[1;32mreturn\u001b[0m \u001b[0mf\u001b[0m\u001b[1;33m(\u001b[0m\u001b[1;33m*\u001b[0m\u001b[0margs\u001b[0m\u001b[1;33m,\u001b[0m \u001b[1;33m**\u001b[0m\u001b[0mkwargs\u001b[0m\u001b[1;33m)\u001b[0m\u001b[1;33m\u001b[0m\u001b[1;33m\u001b[0m\u001b[0m\n\u001b[0m\u001b[0;32m     94\u001b[0m             \u001b[1;32mexcept\u001b[0m \u001b[0mValueError\u001b[0m \u001b[1;32mas\u001b[0m \u001b[0me\u001b[0m\u001b[1;33m:\u001b[0m\u001b[1;33m\u001b[0m\u001b[1;33m\u001b[0m\u001b[0m\n\u001b[0;32m     95\u001b[0m                 \u001b[1;31m# we want to transform an object array\u001b[0m\u001b[1;33m\u001b[0m\u001b[1;33m\u001b[0m\u001b[0m\n",
      "\u001b[1;32mC:\\conda_new\\lib\\site-packages\\pandas\\core\\nanops.py\u001b[0m in \u001b[0;36mf\u001b[1;34m(values, axis, skipna, **kwds)\u001b[0m\n\u001b[0;32m    153\u001b[0m                     \u001b[0mresult\u001b[0m \u001b[1;33m=\u001b[0m \u001b[0malt\u001b[0m\u001b[1;33m(\u001b[0m\u001b[0mvalues\u001b[0m\u001b[1;33m,\u001b[0m \u001b[0maxis\u001b[0m\u001b[1;33m=\u001b[0m\u001b[0maxis\u001b[0m\u001b[1;33m,\u001b[0m \u001b[0mskipna\u001b[0m\u001b[1;33m=\u001b[0m\u001b[0mskipna\u001b[0m\u001b[1;33m,\u001b[0m \u001b[1;33m**\u001b[0m\u001b[0mkwds\u001b[0m\u001b[1;33m)\u001b[0m\u001b[1;33m\u001b[0m\u001b[1;33m\u001b[0m\u001b[0m\n\u001b[0;32m    154\u001b[0m             \u001b[1;32melse\u001b[0m\u001b[1;33m:\u001b[0m\u001b[1;33m\u001b[0m\u001b[1;33m\u001b[0m\u001b[0m\n\u001b[1;32m--> 155\u001b[1;33m                 \u001b[0mresult\u001b[0m \u001b[1;33m=\u001b[0m \u001b[0malt\u001b[0m\u001b[1;33m(\u001b[0m\u001b[0mvalues\u001b[0m\u001b[1;33m,\u001b[0m \u001b[0maxis\u001b[0m\u001b[1;33m=\u001b[0m\u001b[0maxis\u001b[0m\u001b[1;33m,\u001b[0m \u001b[0mskipna\u001b[0m\u001b[1;33m=\u001b[0m\u001b[0mskipna\u001b[0m\u001b[1;33m,\u001b[0m \u001b[1;33m**\u001b[0m\u001b[0mkwds\u001b[0m\u001b[1;33m)\u001b[0m\u001b[1;33m\u001b[0m\u001b[1;33m\u001b[0m\u001b[0m\n\u001b[0m\u001b[0;32m    156\u001b[0m \u001b[1;33m\u001b[0m\u001b[0m\n\u001b[0;32m    157\u001b[0m             \u001b[1;32mreturn\u001b[0m \u001b[0mresult\u001b[0m\u001b[1;33m\u001b[0m\u001b[1;33m\u001b[0m\u001b[0m\n",
      "\u001b[1;32mC:\\conda_new\\lib\\site-packages\\pandas\\core\\nanops.py\u001b[0m in \u001b[0;36mnew_func\u001b[1;34m(values, axis, skipna, mask, **kwargs)\u001b[0m\n\u001b[0;32m    408\u001b[0m             \u001b[0mmask\u001b[0m \u001b[1;33m=\u001b[0m \u001b[0misna\u001b[0m\u001b[1;33m(\u001b[0m\u001b[0mvalues\u001b[0m\u001b[1;33m)\u001b[0m\u001b[1;33m\u001b[0m\u001b[1;33m\u001b[0m\u001b[0m\n\u001b[0;32m    409\u001b[0m \u001b[1;33m\u001b[0m\u001b[0m\n\u001b[1;32m--> 410\u001b[1;33m         \u001b[0mresult\u001b[0m \u001b[1;33m=\u001b[0m \u001b[0mfunc\u001b[0m\u001b[1;33m(\u001b[0m\u001b[0mvalues\u001b[0m\u001b[1;33m,\u001b[0m \u001b[0maxis\u001b[0m\u001b[1;33m=\u001b[0m\u001b[0maxis\u001b[0m\u001b[1;33m,\u001b[0m \u001b[0mskipna\u001b[0m\u001b[1;33m=\u001b[0m\u001b[0mskipna\u001b[0m\u001b[1;33m,\u001b[0m \u001b[0mmask\u001b[0m\u001b[1;33m=\u001b[0m\u001b[0mmask\u001b[0m\u001b[1;33m,\u001b[0m \u001b[1;33m**\u001b[0m\u001b[0mkwargs\u001b[0m\u001b[1;33m)\u001b[0m\u001b[1;33m\u001b[0m\u001b[1;33m\u001b[0m\u001b[0m\n\u001b[0m\u001b[0;32m    411\u001b[0m \u001b[1;33m\u001b[0m\u001b[0m\n\u001b[0;32m    412\u001b[0m         \u001b[1;32mif\u001b[0m \u001b[0mdatetimelike\u001b[0m\u001b[1;33m:\u001b[0m\u001b[1;33m\u001b[0m\u001b[1;33m\u001b[0m\u001b[0m\n",
      "\u001b[1;32mC:\\conda_new\\lib\\site-packages\\pandas\\core\\nanops.py\u001b[0m in \u001b[0;36mnanmean\u001b[1;34m(values, axis, skipna, mask)\u001b[0m\n\u001b[0;32m    696\u001b[0m \u001b[1;33m\u001b[0m\u001b[0m\n\u001b[0;32m    697\u001b[0m     \u001b[0mcount\u001b[0m \u001b[1;33m=\u001b[0m \u001b[0m_get_counts\u001b[0m\u001b[1;33m(\u001b[0m\u001b[0mvalues\u001b[0m\u001b[1;33m.\u001b[0m\u001b[0mshape\u001b[0m\u001b[1;33m,\u001b[0m \u001b[0mmask\u001b[0m\u001b[1;33m,\u001b[0m \u001b[0maxis\u001b[0m\u001b[1;33m,\u001b[0m \u001b[0mdtype\u001b[0m\u001b[1;33m=\u001b[0m\u001b[0mdtype_count\u001b[0m\u001b[1;33m)\u001b[0m\u001b[1;33m\u001b[0m\u001b[1;33m\u001b[0m\u001b[0m\n\u001b[1;32m--> 698\u001b[1;33m     \u001b[0mthe_sum\u001b[0m \u001b[1;33m=\u001b[0m \u001b[0m_ensure_numeric\u001b[0m\u001b[1;33m(\u001b[0m\u001b[0mvalues\u001b[0m\u001b[1;33m.\u001b[0m\u001b[0msum\u001b[0m\u001b[1;33m(\u001b[0m\u001b[0maxis\u001b[0m\u001b[1;33m,\u001b[0m \u001b[0mdtype\u001b[0m\u001b[1;33m=\u001b[0m\u001b[0mdtype_sum\u001b[0m\u001b[1;33m)\u001b[0m\u001b[1;33m)\u001b[0m\u001b[1;33m\u001b[0m\u001b[1;33m\u001b[0m\u001b[0m\n\u001b[0m\u001b[0;32m    699\u001b[0m \u001b[1;33m\u001b[0m\u001b[0m\n\u001b[0;32m    700\u001b[0m     \u001b[1;32mif\u001b[0m \u001b[0maxis\u001b[0m \u001b[1;32mis\u001b[0m \u001b[1;32mnot\u001b[0m \u001b[1;32mNone\u001b[0m \u001b[1;32mand\u001b[0m \u001b[0mgetattr\u001b[0m\u001b[1;33m(\u001b[0m\u001b[0mthe_sum\u001b[0m\u001b[1;33m,\u001b[0m \u001b[1;34m\"ndim\"\u001b[0m\u001b[1;33m,\u001b[0m \u001b[1;32mFalse\u001b[0m\u001b[1;33m)\u001b[0m\u001b[1;33m:\u001b[0m\u001b[1;33m\u001b[0m\u001b[1;33m\u001b[0m\u001b[0m\n",
      "\u001b[1;32mC:\\conda_new\\lib\\site-packages\\numpy\\core\\_methods.py\u001b[0m in \u001b[0;36m_sum\u001b[1;34m(a, axis, dtype, out, keepdims, initial, where)\u001b[0m\n\u001b[0;32m     47\u001b[0m def _sum(a, axis=None, dtype=None, out=None, keepdims=False,\n\u001b[0;32m     48\u001b[0m          initial=_NoValue, where=True):\n\u001b[1;32m---> 49\u001b[1;33m     \u001b[1;32mreturn\u001b[0m \u001b[0mumr_sum\u001b[0m\u001b[1;33m(\u001b[0m\u001b[0ma\u001b[0m\u001b[1;33m,\u001b[0m \u001b[0maxis\u001b[0m\u001b[1;33m,\u001b[0m \u001b[0mdtype\u001b[0m\u001b[1;33m,\u001b[0m \u001b[0mout\u001b[0m\u001b[1;33m,\u001b[0m \u001b[0mkeepdims\u001b[0m\u001b[1;33m,\u001b[0m \u001b[0minitial\u001b[0m\u001b[1;33m,\u001b[0m \u001b[0mwhere\u001b[0m\u001b[1;33m)\u001b[0m\u001b[1;33m\u001b[0m\u001b[1;33m\u001b[0m\u001b[0m\n\u001b[0m\u001b[0;32m     50\u001b[0m \u001b[1;33m\u001b[0m\u001b[0m\n\u001b[0;32m     51\u001b[0m def _prod(a, axis=None, dtype=None, out=None, keepdims=False,\n",
      "\u001b[1;31mTypeError\u001b[0m: can only concatenate str (not \"float\") to str"
     ]
    }
   ],
   "source": [
    "df['Purchase_Amount'].mean()"
   ]
  },
  {
   "cell_type": "code",
   "execution_count": 115,
   "id": "f5499370",
   "metadata": {
    "ExecuteTime": {
     "end_time": "2024-05-02T09:56:20.465696Z",
     "start_time": "2024-05-02T09:56:20.447293Z"
    }
   },
   "outputs": [],
   "source": [
    "df['Purchase_Amount'] = df['Purchase_Amount'].astype(int)"
   ]
  },
  {
   "cell_type": "code",
   "execution_count": 116,
   "id": "5d5a36c8",
   "metadata": {
    "ExecuteTime": {
     "end_time": "2024-05-02T09:56:22.573030Z",
     "start_time": "2024-05-02T09:56:22.557061Z"
    }
   },
   "outputs": [
    {
     "data": {
      "text/plain": [
       "482.0541760722348"
      ]
     },
     "execution_count": 116,
     "metadata": {},
     "output_type": "execute_result"
    }
   ],
   "source": [
    "df['Purchase_Amount'].mean()"
   ]
  },
  {
   "cell_type": "code",
   "execution_count": null,
   "id": "7f3e77b3",
   "metadata": {},
   "outputs": [],
   "source": []
  },
  {
   "cell_type": "code",
   "execution_count": null,
   "id": "09338d6e",
   "metadata": {},
   "outputs": [],
   "source": []
  },
  {
   "cell_type": "code",
   "execution_count": null,
   "id": "538e85a5",
   "metadata": {},
   "outputs": [],
   "source": []
  },
  {
   "cell_type": "code",
   "execution_count": null,
   "id": "7ff5ffd8",
   "metadata": {},
   "outputs": [],
   "source": []
  },
  {
   "cell_type": "code",
   "execution_count": null,
   "id": "fb769dcb",
   "metadata": {},
   "outputs": [],
   "source": []
  },
  {
   "cell_type": "code",
   "execution_count": null,
   "id": "72e310d2",
   "metadata": {},
   "outputs": [],
   "source": []
  },
  {
   "cell_type": "code",
   "execution_count": null,
   "id": "99388543",
   "metadata": {},
   "outputs": [],
   "source": []
  },
  {
   "cell_type": "code",
   "execution_count": null,
   "id": "8a3519f0",
   "metadata": {},
   "outputs": [],
   "source": []
  },
  {
   "cell_type": "code",
   "execution_count": null,
   "id": "015d17cd",
   "metadata": {},
   "outputs": [],
   "source": []
  },
  {
   "cell_type": "code",
   "execution_count": null,
   "id": "885a77d0",
   "metadata": {},
   "outputs": [],
   "source": []
  },
  {
   "cell_type": "code",
   "execution_count": null,
   "id": "5f76ade2",
   "metadata": {},
   "outputs": [],
   "source": []
  },
  {
   "cell_type": "code",
   "execution_count": null,
   "id": "760a1f22",
   "metadata": {},
   "outputs": [],
   "source": []
  },
  {
   "cell_type": "code",
   "execution_count": null,
   "id": "8d0e1361",
   "metadata": {},
   "outputs": [],
   "source": []
  },
  {
   "cell_type": "code",
   "execution_count": null,
   "id": "5718b397",
   "metadata": {},
   "outputs": [],
   "source": []
  },
  {
   "cell_type": "code",
   "execution_count": null,
   "id": "6b290c7a",
   "metadata": {},
   "outputs": [],
   "source": []
  },
  {
   "cell_type": "code",
   "execution_count": null,
   "id": "edb4f88a",
   "metadata": {},
   "outputs": [],
   "source": []
  }
 ],
 "metadata": {
  "kernelspec": {
   "display_name": "Python 3 (ipykernel)",
   "language": "python",
   "name": "python3"
  },
  "language_info": {
   "codemirror_mode": {
    "name": "ipython",
    "version": 3
   },
   "file_extension": ".py",
   "mimetype": "text/x-python",
   "name": "python",
   "nbconvert_exporter": "python",
   "pygments_lexer": "ipython3",
   "version": "3.9.13"
  },
  "varInspector": {
   "cols": {
    "lenName": 16,
    "lenType": 16,
    "lenVar": 40
   },
   "kernels_config": {
    "python": {
     "delete_cmd_postfix": "",
     "delete_cmd_prefix": "del ",
     "library": "var_list.py",
     "varRefreshCmd": "print(var_dic_list())"
    },
    "r": {
     "delete_cmd_postfix": ") ",
     "delete_cmd_prefix": "rm(",
     "library": "var_list.r",
     "varRefreshCmd": "cat(var_dic_list()) "
    }
   },
   "types_to_exclude": [
    "module",
    "function",
    "builtin_function_or_method",
    "instance",
    "_Feature"
   ],
   "window_display": false
  }
 },
 "nbformat": 4,
 "nbformat_minor": 5
}
